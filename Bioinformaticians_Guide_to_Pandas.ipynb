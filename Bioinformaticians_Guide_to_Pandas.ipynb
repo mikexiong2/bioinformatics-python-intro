{
 "cells": [
  {
   "cell_type": "markdown",
   "metadata": {},
   "source": [
    "<center><h1>A Bioinformatician's Guide to Pandas<h1></center>"
   ]
  },
  {
   "cell_type": "markdown",
   "metadata": {},
   "source": [
    "1.1 - What is Pandas?\n",
    "--------------\n",
    "Pandas is an open-source, high-performance module for Python that provides the DataFrame data structure."
   ]
  },
  {
   "cell_type": "markdown",
   "metadata": {},
   "source": [
    "1.2 - Documentation:\n",
    "-------------------------------------\n",
    " - Pandas: http://pandas.pydata.org/pandas-docs/stable/\n",
    " - Matplotlib.pyplot: http://matplotlib.org/api/pyplot_summary.html\n",
    " - Seaborn: http://seaborn.pydata.org/api.html"
   ]
  },
  {
   "cell_type": "markdown",
   "metadata": {},
   "source": [
    "## 1.3 - Importing Modules"
   ]
  },
  {
   "cell_type": "code",
   "execution_count": null,
   "metadata": {
    "collapsed": true
   },
   "outputs": [],
   "source": [
    "import numpy as np\n",
    "import pandas as pd\n",
    "import matplotlib.pyplot as plt\n",
    "import seaborn as sns"
   ]
  },
  {
   "cell_type": "markdown",
   "metadata": {},
   "source": [
    "## 1.4 - Creating DataFrames"
   ]
  },
  {
   "cell_type": "markdown",
   "metadata": {},
   "source": [
    "Now that we have imported the required modules, let's create a simple DataFrame."
   ]
  },
  {
   "cell_type": "code",
   "execution_count": null,
   "metadata": {
    "collapsed": false
   },
   "outputs": [],
   "source": [
    "# create an empty DataFrame\n",
    "pd.DataFrame()"
   ]
  },
  {
   "cell_type": "markdown",
   "metadata": {},
   "source": [
    "That wasn't very exciting! Let's try specifying the indices that we want it to have."
   ]
  },
  {
   "cell_type": "code",
   "execution_count": null,
   "metadata": {
    "collapsed": false
   },
   "outputs": [],
   "source": [
    "# The index to use for the rows.\n",
    "cancer_genes = ['BRCA1', 'BRCA2', 'BRAF']\n",
    "\n",
    "# The index to use for the columns.\n",
    "gene_qualities = [\n",
    "    'chromosome',\n",
    "    'start_position',\n",
    "    'end_position',\n",
    "    'base_length',\n",
    "    'orientation',\n",
    "    'protein_size',\n",
    "    'protein_mass',\n",
    "    'protein_accession'\n",
    "]"
   ]
  },
  {
   "cell_type": "markdown",
   "metadata": {},
   "source": [
    "## 1.5 Creating DataFrames Using Indices\n",
    "\n",
    "##### You may be asking, what is an Index?\n",
    "\n",
    "An index is simply a label for a given row/column that we can use to access specific elements in the DataFrame. \n",
    "\n",
    "Here, we are initializing a new DataFrame object with the row index set to the list of cancer genes we created above, and the column index (or column headers) set to the list of gene qualities. We will also store the DataFrame as a variable geneDF, so that we can reference it in the future."
   ]
  },
  {
   "cell_type": "code",
   "execution_count": null,
   "metadata": {
    "collapsed": false
   },
   "outputs": [],
   "source": [
    "# create a DataFrame with row and column indices\n",
    "genes = pd.DataFrame(index=cancer_genes, columns=gene_qualities)"
   ]
  },
  {
   "cell_type": "markdown",
   "metadata": {},
   "source": [
    "In Jupyter Notebooks, as you can see, when we assign variables to values,\n",
    "the default action is not to print the result.\n",
    "\n",
    "To print our new DataFrame, we simply type variable name as such:"
   ]
  },
  {
   "cell_type": "code",
   "execution_count": null,
   "metadata": {
    "collapsed": false
   },
   "outputs": [],
   "source": [
    "genes\n",
    "\n",
    "# Alternatively, we could print(geneDF)."
   ]
  },
  {
   "cell_type": "markdown",
   "metadata": {},
   "source": [
    "As you can see, we now have a new DataFrame where the <b>dimensions</b> are:\n",
    ">len(cancer_genes) * len(gene_qualities)."
   ]
  },
  {
   "cell_type": "markdown",
   "metadata": {},
   "source": [
    "## 1.6 - Understanding NaN\n",
    "That's great! But, what is <b>NaN</b>?\n",
    "\n",
    "NaN is an abbreviation of <i>\"Not a Number\"</i>. In terms of our DataFrame,\n",
    "this indicates that we haven't specified each cell's value."
   ]
  },
  {
   "cell_type": "markdown",
   "metadata": {},
   "source": [
    "## 1.7 - Accessing Rows with .loc['row_name']\n",
    "\n",
    "Here, we access the row that corresponds to the BRCA1 gene by calling:"
   ]
  },
  {
   "cell_type": "code",
   "execution_count": null,
   "metadata": {
    "collapsed": false
   },
   "outputs": [],
   "source": [
    "# access the row that corresponds with the BRCA1 gene\n",
    "genes.loc['BRCA1']"
   ]
  },
  {
   "cell_type": "markdown",
   "metadata": {},
   "source": [
    "The .loc indexer is a label-location based indexer that accesses\n",
    "1 or more row(s)/column(s) in the DataFrame by specifying its index value.\n",
    "\n",
    "You can think of index values as String labels that\n",
    "are useful for accessing specific rows or columns."
   ]
  },
  {
   "cell_type": "markdown",
   "metadata": {},
   "source": [
    "## 1.8 - Updating Row Values\n",
    "Let's set the values for the first row."
   ]
  },
  {
   "cell_type": "code",
   "execution_count": null,
   "metadata": {
    "collapsed": false
   },
   "outputs": [],
   "source": [
    "# update the values of the given row\n",
    "genes.loc['BRCA1'] = np.array([17, 43044295, 43170245, 125951, '-', 1863, 207721, 'P38398'])"
   ]
  },
  {
   "cell_type": "markdown",
   "metadata": {},
   "source": [
    "As you can see, we've updated the values for the first row.\n",
    "\n",
    "\n",
    "*If you are curious as to where this information is coming from,\n",
    "here is the link to the BRCA1 gene's GeneCard entry:\n",
    " - http://www.genecards.org/cgi-bin/carddisp.pl?gene=BRCA1"
   ]
  },
  {
   "cell_type": "code",
   "execution_count": null,
   "metadata": {
    "collapsed": false
   },
   "outputs": [],
   "source": [
    "genes"
   ]
  },
  {
   "cell_type": "markdown",
   "metadata": {},
   "source": [
    "## 1.8.1 - Populating NaN Cells\n",
    "As an aside, if we wanted to instead populate the remaining 'NaN' cells with a given value, we could do the following:"
   ]
  },
  {
   "cell_type": "code",
   "execution_count": null,
   "metadata": {
    "collapsed": false
   },
   "outputs": [],
   "source": [
    "# Fill the empty cells of the DataFrame with the value 0.\n",
    "genes.fillna(0)"
   ]
  },
  {
   "cell_type": "markdown",
   "metadata": {},
   "source": [
    "#### Let's populate the remaining rows!\n",
    "\n",
    "Here are links to the Gene Cards referenced:\n",
    " - BRCA2: http://www.genecards.org/cgi-bin/carddisp.pl?gene=BRCA2\n",
    " - BRAF: http://www.genecards.org/cgi-bin/carddisp.pl?gene=BRAF"
   ]
  },
  {
   "cell_type": "code",
   "execution_count": null,
   "metadata": {
    "collapsed": true
   },
   "outputs": [],
   "source": [
    "# update the BRCA2 and BRAF rows\n",
    "genes.loc['BRCA2'] = np.array([13, 32314862, 32400266, 85405, '+', 3418, 384202, 'P51587'])\n",
    "genes.loc['BRAF'] = np.array([7, 140715951, 140924764, 208814, '-', 766, 84437, 'P15956'])"
   ]
  },
  {
   "cell_type": "code",
   "execution_count": null,
   "metadata": {
    "collapsed": false
   },
   "outputs": [],
   "source": [
    "genes"
   ]
  },
  {
   "cell_type": "markdown",
   "metadata": {},
   "source": [
    "## 1.9 - Creating DataFrames from Dictionaries\n",
    "You may be asking yourself, is there another way we could create the DataFrame?\n",
    "\n",
    "Here is an example of creating the same DataFrame, but this time with a <b>dictionary</b>:"
   ]
  },
  {
   "cell_type": "code",
   "execution_count": null,
   "metadata": {
    "collapsed": true
   },
   "outputs": [],
   "source": [
    "# create a dictionary to store our gene data\n",
    "gene_dictionary = {\n",
    "    \"symbol\": ['BRCA1', 'BRCA2', 'BRAF'],\n",
    "    \"chromosome\": [17, 13, 7],\n",
    "    \"start_position\": [43044295, 32314862, 140715951],\n",
    "    \"end_position\": [43170245, 32400266, 140924764],\n",
    "    \"base_length\": [125951, 85405, 208814],\n",
    "    \"orientation\": ['-', '+', '-'],\n",
    "    \"protein_size\": [1863, 3418, 766],\n",
    "    \"protein_mass\": [207721, 384202, 84437],\n",
    "    \"protein_accession\": ['P38398', 'P51587', 'P15956']\n",
    "}\n",
    "\n",
    "# create a new DataFrame from the dictionary\n",
    "genes = pd.DataFrame(gene_dictionary)"
   ]
  },
  {
   "cell_type": "markdown",
   "metadata": {},
   "source": [
    "##### As you can see, we didn't specify the row index, so Pandas used the default numeric {0, 1, ... , n} index."
   ]
  },
  {
   "cell_type": "code",
   "execution_count": null,
   "metadata": {
    "collapsed": false
   },
   "outputs": [],
   "source": [
    "genes"
   ]
  },
  {
   "cell_type": "markdown",
   "metadata": {},
   "source": [
    "## 1.10 - Setting the Row Index\n",
    "We can update the index to use the new 'symbol' column,\n",
    "which contains the gene symbols that we used in the\n",
    "first example as our row index.\n",
    "\n",
    "* Note: You may notice an extra line in the DataFrame appears.\n",
    "    do not be afraid! This simply indicates the label of the\n",
    "    row index is 'symbol'.\n",
    "* Note: The set_index() method returns a new DataFrame. \n",
    " To update an existing DataFrame, we need to overwrite its value with the result.\n"
   ]
  },
  {
   "cell_type": "code",
   "execution_count": null,
   "metadata": {
    "collapsed": false
   },
   "outputs": [],
   "source": [
    "# set the row index to be the symbol column\n",
    "genes = genes.set_index('symbol')"
   ]
  },
  {
   "cell_type": "code",
   "execution_count": null,
   "metadata": {
    "collapsed": false
   },
   "outputs": [],
   "source": [
    "genes"
   ]
  },
  {
   "cell_type": "markdown",
   "metadata": {},
   "source": [
    "## 1.11 - Head(n)\n",
    "The .head() method allows us to select the first n rows of a given DataFrame. This is useful for cases where we have a large DataFrame that would be time consuming to print in its entirety."
   ]
  },
  {
   "cell_type": "code",
   "execution_count": null,
   "metadata": {
    "collapsed": false
   },
   "outputs": [],
   "source": [
    "# get the first 2 rows\n",
    "genes.head(2)"
   ]
  },
  {
   "cell_type": "markdown",
   "metadata": {},
   "source": [
    "As you can see, by calling .head(2) on our geneDF2 DataFrame, the method returned the first two rows.\n",
    "\n",
    "* Note: the .head() method returns a new DataFrame."
   ]
  },
  {
   "cell_type": "markdown",
   "metadata": {},
   "source": [
    "## 1.12 - Shape\n",
    "The .shape attribute returns the dimensions (# of rows , # of columns) of the given DataFrame."
   ]
  },
  {
   "cell_type": "code",
   "execution_count": null,
   "metadata": {
    "collapsed": false
   },
   "outputs": [],
   "source": [
    "# get the dimensions\n",
    "genes.shape"
   ]
  },
  {
   "cell_type": "markdown",
   "metadata": {},
   "source": [
    "## 1.13 - DTypes\n",
    "The .dytpes attribute returns the data types that Pandas has interpreted for each column of the DataFrame.\n",
    "\n",
    "As a side note, Pandas commonly interprets columns containing String inputs to be of the object type."
   ]
  },
  {
   "cell_type": "code",
   "execution_count": null,
   "metadata": {
    "collapsed": false
   },
   "outputs": [],
   "source": [
    "# get the datatypes assoc. w/ each column\n",
    "genes.dtypes"
   ]
  },
  {
   "cell_type": "markdown",
   "metadata": {},
   "source": [
    "## 1.14 - Accessing the Column Index\n",
    "To access the column index, we can access the .columns attribute of the DataFrame."
   ]
  },
  {
   "cell_type": "code",
   "execution_count": null,
   "metadata": {
    "collapsed": false
   },
   "outputs": [],
   "source": [
    "# get the column index object\n",
    "genes.columns"
   ]
  },
  {
   "cell_type": "markdown",
   "metadata": {},
   "source": [
    "To obtain a Numpy array of the column labels, we can simply access the values attribute of the column index."
   ]
  },
  {
   "cell_type": "code",
   "execution_count": null,
   "metadata": {
    "collapsed": false
   },
   "outputs": [],
   "source": [
    "# get a Numpy array of the column labels\n",
    "genes.columns.values"
   ]
  },
  {
   "cell_type": "markdown",
   "metadata": {},
   "source": [
    "To convert the Numpy array into a list, we simply need to pass the Numpy array as a parameter to our list constructor."
   ]
  },
  {
   "cell_type": "code",
   "execution_count": null,
   "metadata": {
    "collapsed": false
   },
   "outputs": [],
   "source": [
    "# get a list of column labels\n",
    "list(genes.columns.values)"
   ]
  },
  {
   "cell_type": "markdown",
   "metadata": {},
   "source": [
    "## 1.15 - Selecting Multiple Rows by Label\n",
    "Remember in Section 1.7 that we could access a given row by its index label?\n",
    "We can expand this to access multiple rows by passing a list of row labels."
   ]
  },
  {
   "cell_type": "code",
   "execution_count": null,
   "metadata": {
    "collapsed": false
   },
   "outputs": [],
   "source": [
    "genes.loc[['BRCA1', 'BRAF']]"
   ]
  },
  {
   "cell_type": "markdown",
   "metadata": {},
   "source": [
    "## 1.16 - Selecting Columns\n",
    "With Pandas, we can also select specific columns to subset the DataFrame."
   ]
  },
  {
   "cell_type": "code",
   "execution_count": null,
   "metadata": {
    "collapsed": false
   },
   "outputs": [],
   "source": [
    "genes['base_length']"
   ]
  },
  {
   "cell_type": "markdown",
   "metadata": {},
   "source": [
    "## 1.17 - Selecting Multiple Columns\n",
    "Similar to accessing multiple rows, to access multiple columns of the DataFrame we can simply pass a list of column labels."
   ]
  },
  {
   "cell_type": "code",
   "execution_count": null,
   "metadata": {
    "collapsed": false
   },
   "outputs": [],
   "source": [
    "# get the base_length and orientation of every gene\n",
    "genes[['base_length', 'orientation']]"
   ]
  },
  {
   "cell_type": "markdown",
   "metadata": {},
   "source": [
    "## 1.18 - Selecting Row, then Column\n",
    "Let's combine what we've learned so far by selecting a row, and then the value of a specific column within that row."
   ]
  },
  {
   "cell_type": "code",
   "execution_count": null,
   "metadata": {
    "collapsed": false
   },
   "outputs": [],
   "source": [
    "# get the base_length value of the BRCA1 gene\n",
    "genes.loc['BRCA1', 'base_length']"
   ]
  },
  {
   "cell_type": "code",
   "execution_count": null,
   "metadata": {
    "collapsed": false
   },
   "outputs": [],
   "source": [
    "# get the chromosome location of the BRAF gene\n",
    "genes.loc['BRAF', 'chromosome']"
   ]
  },
  {
   "cell_type": "markdown",
   "metadata": {},
   "source": [
    "## 1.19 - Selecting Row, then Multiple Columns\n",
    "We can extend this once again, by passing in a list of column labels as the second parameter to .loc. "
   ]
  },
  {
   "cell_type": "code",
   "execution_count": null,
   "metadata": {
    "collapsed": false
   },
   "outputs": [],
   "source": [
    "# get the start and stop position of the BRCA1 gene\n",
    "genes.loc['BRCA1', ['start_position', 'end_position']]"
   ]
  },
  {
   "cell_type": "markdown",
   "metadata": {},
   "source": [
    "## 1.20 - Selecting Multiple Rows and Multiple Columns\n",
    "You may have guessed by now that we can pass .loc a list of row labels and a list of column labels to select multiple rows and multiple columns."
   ]
  },
  {
   "cell_type": "code",
   "execution_count": null,
   "metadata": {
    "collapsed": false
   },
   "outputs": [],
   "source": [
    "# get the start and stop position of the BRCA1 and BRCA2 genes \n",
    "genes.loc[['BRCA1', 'BRCA2'], ['start_position', 'end_position']]"
   ]
  },
  {
   "cell_type": "markdown",
   "metadata": {},
   "source": [
    "## 1.21 - Slicing\n",
    "With splicing, we can avoid having to manually which specific columns to select. Instead, we can select a range of columns between two values that correspond to their index positions."
   ]
  },
  {
   "cell_type": "code",
   "execution_count": null,
   "metadata": {
    "collapsed": false
   },
   "outputs": [],
   "source": [
    "# get all genes between row index 0 to 2 (inclusive)\n",
    "genes[0:2]"
   ]
  },
  {
   "cell_type": "markdown",
   "metadata": {},
   "source": [
    "## 1.22 - Vectorized Selection\n",
    "You may be saying to yourself, \"All of this is really nice...but all I want to do is get all of the rows that have a given value in column X\".\n",
    "\n",
    "Have no fear, vectorized operations are here! (I'm really bad at humor)."
   ]
  },
  {
   "cell_type": "code",
   "execution_count": null,
   "metadata": {
    "collapsed": false
   },
   "outputs": [],
   "source": [
    "# for each gene, check of the orientation is '-'\n",
    "negative_orientation = genes['orientation'] == '-'"
   ]
  },
  {
   "cell_type": "markdown",
   "metadata": {},
   "source": [
    "The above code checks if the orientation value for each row is equal to '-'. The results are then grouped into a resulting boolean Series. You can think of a Series as a single column of a DataFrame, which maintains the DataFrame's index."
   ]
  },
  {
   "cell_type": "code",
   "execution_count": null,
   "metadata": {
    "collapsed": false
   },
   "outputs": [],
   "source": [
    "# print the boolean series\n",
    "negative_orientation"
   ]
  },
  {
   "cell_type": "markdown",
   "metadata": {},
   "source": [
    "To select only the rows that satisfy our condition, we simply pass the resulting Series as such:"
   ]
  },
  {
   "cell_type": "code",
   "execution_count": null,
   "metadata": {
    "collapsed": false
   },
   "outputs": [],
   "source": [
    "# get only the negatively oriented genes\n",
    "genes[negative_orientation]"
   ]
  },
  {
   "cell_type": "code",
   "execution_count": null,
   "metadata": {
    "collapsed": false
   },
   "outputs": [],
   "source": [
    "# get only the genes with a corresponding protein mass above 100,000 Da\n",
    "genes[genes['protein_mass'] >= 100000]"
   ]
  },
  {
   "cell_type": "markdown",
   "metadata": {},
   "source": [
    "## 2.0 - Importing an NCBI Series Matrix\n",
    "As a Computational Biologist / Bioinformatician, you may encounter an interesting dataset that publishes a Series Matrix file that summarizes the differential expression results of a project's experiments. Naturally, we would love to be able to represent and manipulate the data as a Pandas DataFrame.\n",
    "\n",
    "As an example, I'll show you how to read and manipulate the Series Matrix published by the National Institute of Environmental Sciences under accession no. GSE59927. Here is a link to the NCBI Series: https://www.ncbi.nlm.nih.gov/geo/query/acc.cgi?acc=GSE59927. We will be using the Series Matrix available for FTP download at this link: ftp://ftp.ncbi.nlm.nih.gov/geo/series/GSE59nnn/GSE59927/matrix/.\n",
    "\n",
    "Once you've downloaded the Series Matrix, you'll want to extract the .txt file and move it to the same directory as this Jupyter Notebook.\n",
    "* Note: You will probably not be able to upload the file via Jupyter's upload function, as the file size is quite large."
   ]
  },
  {
   "cell_type": "markdown",
   "metadata": {},
   "source": [
    "### 2.1 - Previewing the Series Matrix File Format\n",
    "We'll begin by scanning the first 1000 lines of the file to get a sense of its format."
   ]
  },
  {
   "cell_type": "code",
   "execution_count": null,
   "metadata": {
    "collapsed": false
   },
   "outputs": [],
   "source": [
    "f = open('GSE59927-GPL5424_series_matrix.txt', 'r')\n",
    "f.readlines(1000)"
   ]
  },
  {
   "cell_type": "markdown",
   "metadata": {},
   "source": [
    "You should notice that the first several lines all begin with a '!'. The '!' indicates that line serves as a comment, rather than actual tabular data. We'll want to ignore these lines when we create our DataFrame.\n",
    "\n",
    "You should also notice that the columns of the table are tab-deliminated, meaning each entry of every row in the file has a '\\t' appended to separate it from the following entry."
   ]
  },
  {
   "cell_type": "markdown",
   "metadata": {},
   "source": [
    "### 2.2 - Reading a CSV into a DataFrame"
   ]
  },
  {
   "cell_type": "code",
   "execution_count": null,
   "metadata": {
    "collapsed": true
   },
   "outputs": [],
   "source": [
    "# Read the file into the DataFrame, ignoring lines that start with '!',\n",
    "#   using tabs as the delimiter, and setting the first column as the index.\n",
    "expression = pd.read_csv('GSE59927-GPL5424_series_matrix.txt', sep='\\t', comment='!', index_col=0)"
   ]
  },
  {
   "cell_type": "code",
   "execution_count": null,
   "metadata": {
    "collapsed": false
   },
   "outputs": [],
   "source": [
    "expression"
   ]
  },
  {
   "cell_type": "markdown",
   "metadata": {},
   "source": [
    "### 2.3 - Testing DataFrame Operations on a Large DataFrame\n",
    "Awesome! We now have a significantly larger DataFrame than we've used previously, but the operations we can perform are still the same.\n",
    "\n",
    "Let's try a few operations."
   ]
  },
  {
   "cell_type": "code",
   "execution_count": null,
   "metadata": {
    "collapsed": false
   },
   "outputs": [],
   "source": [
    "# get the dimensions of the DataFrame\n",
    "expression.shape"
   ]
  },
  {
   "cell_type": "code",
   "execution_count": null,
   "metadata": {
    "collapsed": false
   },
   "outputs": [],
   "source": [
    "# get the expression values of each sample for the probe no. AA799301_PROBE1\n",
    "expression.loc['AA799301_PROBE1']"
   ]
  },
  {
   "cell_type": "code",
   "execution_count": null,
   "metadata": {
    "collapsed": false
   },
   "outputs": [],
   "source": [
    "# get all the genes that have an expression value above 10 for the sample GSM1453524.\n",
    "expression[expression['GSM1453524'] >= 10]"
   ]
  },
  {
   "cell_type": "markdown",
   "metadata": {},
   "source": [
    "### 2.4 - Updating to a Gene Symbol Index\n",
    "It's great that we have all of this data, but I have no idea what gene corresponds to probe 'AA799301_PROBE1'.\n",
    "\n",
    "Let's make our interpretation more intuitive by replacing the probe index the DataFrame currently uses with an index of gene symbols.\n",
    "\n",
    "Luckily for us, the folks at the National Institute of Environmental Sciences have posted a table that maps each probe to its corresponding gene symbol.\n",
    "\n",
    "* Note: Due to the fact that multiple BioArray's were used to create the SuperSeries Matrix we've been using, we may not get an exact 1-to-1 mapping of probes to gene symbols. For our purposes as a learning excersize, however, the table should suffice.\n",
    "\n",
    "One of the Microarray platform's the project used was the GE Healthcare/Amersham Biosciences CodeLink UniSet Rat I Bioarray, using layout EXP5280X2-584. We can find additional platform information at this link: https://www.ncbi.nlm.nih.gov/geo/query/acc.cgi?acc=GPL5424. \n",
    "\n",
    "By clicking on the 'View full table' option, we finally can see our probe to gene mappings at this link: https://www.ncbi.nlm.nih.gov/geo/query/acc.cgi?view=data&acc=GPL5424&id=8009&db=GeoDb_blob92\n",
    "\n",
    "Simply highlight the entire page on the link above by typing 'CNTL-A' on the page, and then paste and save the result into a new text file. I've saved the text file into the same directory as this Jupyter Notebook under the file name 'probes.txt'."
   ]
  },
  {
   "cell_type": "markdown",
   "metadata": {},
   "source": [
    "#### 2.4.1 - Creating a Probes DataFrame"
   ]
  },
  {
   "cell_type": "code",
   "execution_count": null,
   "metadata": {
    "collapsed": true
   },
   "outputs": [],
   "source": [
    "# Read the probes.txt file into a DataFrame, using tabs as the delimiter,\n",
    "#  and ignoring lines starting with '#'.\n",
    "\n",
    "probes = pd.read_csv('probes.txt', sep='\\t', comment='#', index_col=0)"
   ]
  },
  {
   "cell_type": "code",
   "execution_count": null,
   "metadata": {
    "collapsed": false
   },
   "outputs": [],
   "source": [
    "probes"
   ]
  },
  {
   "cell_type": "markdown",
   "metadata": {},
   "source": [
    "#### 2.4.2 - Filtering the Probes\n",
    "We can see that the table of probes contains significantly more probe ID's than our differential expression DataFrame.\n",
    "\n",
    "Have no fear! We can extract only the probes from our probes DataFrame that are also in the expression DataFrame."
   ]
  },
  {
   "cell_type": "code",
   "execution_count": null,
   "metadata": {
    "collapsed": true
   },
   "outputs": [],
   "source": [
    "# get only the probes that are in the expression matrix index\n",
    "expressed_probes = probes[probes.index.isin(expression.index)]"
   ]
  },
  {
   "cell_type": "code",
   "execution_count": null,
   "metadata": {
    "collapsed": false
   },
   "outputs": [],
   "source": [
    "expressed_probes"
   ]
  },
  {
   "cell_type": "markdown",
   "metadata": {},
   "source": [
    "#### 2.4.3 Selecting the Gene Symbols\n",
    "Now that we've extracted only the probes that appear in our expression matrix, let's select their gene symbols."
   ]
  },
  {
   "cell_type": "code",
   "execution_count": null,
   "metadata": {
    "collapsed": true
   },
   "outputs": [],
   "source": [
    "# get the gene symbol of each probe\n",
    "expressed_genes = expressed_probes['GENE_SYMBOL']"
   ]
  },
  {
   "cell_type": "code",
   "execution_count": null,
   "metadata": {
    "collapsed": false
   },
   "outputs": [],
   "source": [
    "expressed_genes"
   ]
  },
  {
   "cell_type": "markdown",
   "metadata": {},
   "source": [
    "#### 2.4.4 - Creating a DataFrame with a Gene Symbol Index\n",
    "\n",
    "Now that we have our index of gene symbols, we can create a new DataFrame that is indexed on the gene symbols instead of the probe ID's."
   ]
  },
  {
   "cell_type": "code",
   "execution_count": null,
   "metadata": {
    "collapsed": true
   },
   "outputs": [],
   "source": [
    "# Create a new DataFrame, using the values from the original expression matrix,\n",
    "#   the expressed genes as the row index, and the sample ID's as the column index.\n",
    "gene_expression = pd.DataFrame(expression.values, index=expressed_genes, columns=expression.columns)\n",
    "\n",
    "# Drop the rows that are still missing a gene symbol.\n",
    "gene_expression = gene_expression[pd.notnull(gene_expression.index)]"
   ]
  },
  {
   "cell_type": "code",
   "execution_count": null,
   "metadata": {
    "collapsed": false
   },
   "outputs": [],
   "source": [
    "gene_expression"
   ]
  },
  {
   "cell_type": "markdown",
   "metadata": {},
   "source": [
    "Published by Trenton Beckendorff, a founding member of the University of Texas at Austin's Bioinformatics Practicum on February 21st, 2017."
   ]
  },
  {
   "cell_type": "code",
   "execution_count": null,
   "metadata": {
    "collapsed": true
   },
   "outputs": [],
   "source": []
  }
 ],
 "metadata": {
  "kernelspec": {
   "display_name": "Python 3",
   "language": "python",
   "name": "python3"
  },
  "language_info": {
   "codemirror_mode": {
    "name": "ipython",
    "version": 3
   },
   "file_extension": ".py",
   "mimetype": "text/x-python",
   "name": "python",
   "nbconvert_exporter": "python",
   "pygments_lexer": "ipython3",
   "version": "3.6.0"
  }
 },
 "nbformat": 4,
 "nbformat_minor": 2
}
